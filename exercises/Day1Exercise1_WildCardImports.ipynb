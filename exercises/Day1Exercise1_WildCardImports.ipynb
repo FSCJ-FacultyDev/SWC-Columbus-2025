{
  "nbformat": 4,
  "nbformat_minor": 0,
  "metadata": {
    "colab": {
      "provenance": []
    },
    "kernelspec": {
      "name": "python3",
      "display_name": "Python 3"
    },
    "language_info": {
      "name": "python"
    }
  },
  "cells": [
    {
      "cell_type": "markdown",
      "source": [
        "# Day 1 Exercise 1 Wildcard Imports\n",
        "\n",
        "Use alias imports as demonstrated in to solve this wildcard import problem. Modify the CHANGEME lines as required."
      ],
      "metadata": {
        "id": "_EJP5uylNW3s"
      }
    },
    {
      "cell_type": "code",
      "source": [
        "with open('text_processor.py', 'w') as f:\n",
        "    f.write(\"\"\"def process(text):\\n    return text.upper()\\n\"\"\")\n",
        "\n",
        "with open('number_processor.py', 'w') as f:\n",
        "    f.write(\"\"\"def process(num):\\n    return num * num\\n\"\"\")\n",
        "\n",
        "# --- Demonstrate original behavior without wildcard conflict ---\n",
        "\n",
        "print(\"=== Demonstrating correct behavior using explicit imports ===\")\n",
        "\n",
        "# CHANGEME 1. replace the following wildcard import with an alias import\n",
        "import text_processor as tp\n",
        "print(\"Imported text_processor\")\n",
        "print(\"id(tp.process):\", id(tp.process))\n",
        "\n",
        "# Call process from text_processor\n",
        "try:\n",
        "    print(\"tp.process('hello') =\", tp.process(\"hello\"))\n",
        "except Exception as e:\n",
        "    print(\"Error:\", e)\n",
        "\n",
        "# CHANGEME 2. replace the following wildcard import with an alias import\n",
        "import number_processor as np\n",
        "print(\"\\nImported number_processor\")\n",
        "print(\"id(np.process):\", id(np.process))\n",
        "\n",
        "# Call process from number_processor\n",
        "try:\n",
        "    print(\"np.process(5) =\", np.process(5))\n",
        "except Exception as e:\n",
        "    print(\"Error:\", e)\n",
        "\n",
        "# CHANGEME 3: use an alias to call the text processor\n",
        "try:\n",
        "    print(\"tp.process('hello') =\", tp.process(\"hello\"))\n",
        "except Exception as e:\n",
        "    print(\"Error:\", e)\n",
        "\n",
        "# --- Cleanup ---\n",
        "import os\n",
        "os.remove('text_processor.py')\n",
        "os.remove('number_processor.py')\n"
      ],
      "metadata": {
        "id": "grAE2lVpOJF-",
        "outputId": "ba7bb979-f711-4fef-8c29-02eee4e5b379",
        "colab": {
          "base_uri": "https://localhost:8080/",
          "height": 241
        }
      },
      "execution_count": 1,
      "outputs": [
        {
          "output_type": "stream",
          "name": "stdout",
          "text": [
            "=== Demonstrating correct behavior using explicit imports ===\n",
            "Imported text_processor\n"
          ]
        },
        {
          "output_type": "error",
          "ename": "NameError",
          "evalue": "name 'tp' is not defined",
          "traceback": [
            "\u001b[0;31m---------------------------------------------------------------------------\u001b[0m",
            "\u001b[0;31mNameError\u001b[0m                                 Traceback (most recent call last)",
            "\u001b[0;32m<ipython-input-1-7616214ade74>\u001b[0m in \u001b[0;36m<cell line: 0>\u001b[0;34m()\u001b[0m\n\u001b[1;32m     12\u001b[0m \u001b[0;32mfrom\u001b[0m \u001b[0mtext_processor\u001b[0m \u001b[0;32mimport\u001b[0m \u001b[0;34m*\u001b[0m\u001b[0;34m\u001b[0m\u001b[0;34m\u001b[0m\u001b[0m\n\u001b[1;32m     13\u001b[0m \u001b[0mprint\u001b[0m\u001b[0;34m(\u001b[0m\u001b[0;34m\"Imported text_processor\"\u001b[0m\u001b[0;34m)\u001b[0m\u001b[0;34m\u001b[0m\u001b[0;34m\u001b[0m\u001b[0m\n\u001b[0;32m---> 14\u001b[0;31m \u001b[0mprint\u001b[0m\u001b[0;34m(\u001b[0m\u001b[0;34m\"id(tp.process):\"\u001b[0m\u001b[0;34m,\u001b[0m \u001b[0mid\u001b[0m\u001b[0;34m(\u001b[0m\u001b[0mtp\u001b[0m\u001b[0;34m.\u001b[0m\u001b[0mprocess\u001b[0m\u001b[0;34m)\u001b[0m\u001b[0;34m)\u001b[0m\u001b[0;34m\u001b[0m\u001b[0;34m\u001b[0m\u001b[0m\n\u001b[0m\u001b[1;32m     15\u001b[0m \u001b[0;34m\u001b[0m\u001b[0m\n\u001b[1;32m     16\u001b[0m \u001b[0;31m# Call process from text_processor\u001b[0m\u001b[0;34m\u001b[0m\u001b[0;34m\u001b[0m\u001b[0m\n",
            "\u001b[0;31mNameError\u001b[0m: name 'tp' is not defined"
          ]
        }
      ]
    },
    {
      "cell_type": "code",
      "source": [
        "###\n",
        "###\n",
        "### SOLUTION\n",
        "###\n",
        "###\n",
        "\n",
        "with open('text_processor.py', 'w') as f:\n",
        "    f.write(\"\"\"def process(text):\\n    return text.upper()\\n\"\"\")\n",
        "\n",
        "with open('number_processor.py', 'w') as f:\n",
        "    f.write(\"\"\"def process(num):\\n    return num * num\\n\"\"\")\n",
        "\n",
        "# --- Demonstrate original behavior without wildcard conflict ---\n",
        "\n",
        "print(\"=== Demonstrating correct behavior using explicit imports ===\")\n",
        "\n",
        "# CHANGEME 1. replace the following wildcard import with an alias import\n",
        "import text_processor as tp\n",
        "print(\"Imported text_processor\")\n",
        "print(\"id(tp.process):\", id(tp.process))\n",
        "\n",
        "# Call process from text_processor\n",
        "try:\n",
        "    print(\"tp.process('hello') =\", tp.process(\"hello\"))\n",
        "except Exception as e:\n",
        "    print(\"Error:\", e)\n",
        "\n",
        "# CHANGEME 2. replace the following wildcard import with an alias import\n",
        "import number_processor as np\n",
        "print(\"\\nImported number_processor\")\n",
        "print(\"id(np.process):\", id(np.process))\n",
        "\n",
        "# Call process from number_processor\n",
        "try:\n",
        "    print(\"np.process(5) =\", np.process(5))\n",
        "except Exception as e:\n",
        "    print(\"Error:\", e)\n",
        "\n",
        "# CHANGEME 3: use an alias to call the text processor\n",
        "try:\n",
        "    print(\"tp.process('hello') =\", tp.process(\"hello\"))\n",
        "except Exception as e:\n",
        "    print(\"Error:\", e)\n",
        "\n",
        "# --- Cleanup ---\n",
        "import os\n",
        "os.remove('text_processor.py')\n",
        "os.remove('number_processor.py')\n"
      ],
      "metadata": {
        "id": "p0qKmnk5OK0f"
      },
      "execution_count": null,
      "outputs": []
    }
  ]
}